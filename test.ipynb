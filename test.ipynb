{
 "cells": [
  {
   "cell_type": "code",
   "execution_count": 1,
   "metadata": {},
   "outputs": [
    {
     "name": "stdout",
     "output_type": "stream",
     "text": [
      "t1\n",
      "<models.TypeVariable object at 0x7f3c11a9d850>\n"
     ]
    }
   ],
   "source": [
    "from models import TypeVariable, TypeFunctionApplication\n",
    "from helpers import Substitution, unify\n",
    "\n",
    "S = Substitution({'t0': 't1' })\n",
    "x = TypeVariable('t0')\n",
    "y = TypeVariable('t1')\n",
    "\n",
    "print(S(x))\n",
    "print(S(y))"
   ]
  },
  {
   "cell_type": "code",
   "execution_count": 8,
   "metadata": {},
   "outputs": [
    {
     "name": "stdout",
     "output_type": "stream",
     "text": [
      "{'t0': 't1'}\n",
      "t1\n",
      "<models.TypeVariable object at 0x7f3c11b1bc50>\n"
     ]
    }
   ],
   "source": [
    "\n",
    "x = TypeVariable('t0')\n",
    "y = TypeVariable('t1')\n",
    "S = unify(x, y)\n",
    "print(S.raw)\n",
    "\n",
    "print(S(x))\n",
    "print(S(y))"
   ]
  }
 ],
 "metadata": {
  "kernelspec": {
   "display_name": "ccu",
   "language": "python",
   "name": "python3"
  },
  "language_info": {
   "codemirror_mode": {
    "name": "ipython",
    "version": 3
   },
   "file_extension": ".py",
   "mimetype": "text/x-python",
   "name": "python",
   "nbconvert_exporter": "python",
   "pygments_lexer": "ipython3",
   "version": "3.12.2"
  }
 },
 "nbformat": 4,
 "nbformat_minor": 2
}
